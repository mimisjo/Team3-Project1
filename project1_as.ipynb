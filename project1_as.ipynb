{
 "cells": [
  {
   "cell_type": "code",
   "execution_count": 1,
   "metadata": {},
   "outputs": [
    {
     "name": "stderr",
     "output_type": "stream",
     "text": [
      "/anaconda3/lib/python3.7/site-packages/IPython/core/interactiveshell.py:3020: DtypeWarning: Columns (9,10,11,12,18,19) have mixed types. Specify dtype option on import or set low_memory=False.\n",
      "  interactivity=interactivity, compiler=compiler, result=result)\n"
     ]
    },
    {
     "name": "stdout",
     "output_type": "stream",
     "text": [
      "751169\n"
     ]
    }
   ],
   "source": [
    "# Dependencies and Setup\n",
    "import matplotlib.pyplot as plt\n",
    "import pandas as pd\n",
    "import numpy as np\n",
    "import requests\n",
    "import time\n",
    "import json\n",
    "# File to Load (Remember to Change These)\n",
    "file_to_load = \"/Users/asun/Desktop/Team3-Project1/311_Service_Requests.csv\"\n",
    "\n",
    "\n",
    "# Read 311 Service Requestes File and store into Pandas data frame\n",
    "df = pd.read_csv(file_to_load,encoding=\"ISO-8859-1\")\n",
    "print(len(df))\n",
    "\n",
    "\n"
   ]
  },
  {
   "cell_type": "code",
   "execution_count": 2,
   "metadata": {},
   "outputs": [
    {
     "data": {
      "text/html": [
       "<div>\n",
       "<style scoped>\n",
       "    .dataframe tbody tr th:only-of-type {\n",
       "        vertical-align: middle;\n",
       "    }\n",
       "\n",
       "    .dataframe tbody tr th {\n",
       "        vertical-align: top;\n",
       "    }\n",
       "\n",
       "    .dataframe thead th {\n",
       "        text-align: right;\n",
       "    }\n",
       "</style>\n",
       "<table border=\"1\" class=\"dataframe\">\n",
       "  <thead>\n",
       "    <tr style=\"text-align: right;\">\n",
       "      <th></th>\n",
       "      <th>SR_NUMBER</th>\n",
       "      <th>SR_TYPE</th>\n",
       "      <th>SR_SHORT_CODE</th>\n",
       "      <th>OWNER_DEPARTMENT</th>\n",
       "      <th>STATUS</th>\n",
       "      <th>CREATED_DATE</th>\n",
       "      <th>LAST_MODIFIED_DATE</th>\n",
       "      <th>CLOSED_DATE</th>\n",
       "      <th>STREET_ADDRESS</th>\n",
       "      <th>CITY</th>\n",
       "      <th>...</th>\n",
       "      <th>X_COORDINATE</th>\n",
       "      <th>Y_COORDINATE</th>\n",
       "      <th>LATITUDE</th>\n",
       "      <th>LONGITUDE</th>\n",
       "      <th>LOCATION</th>\n",
       "      <th>Boundaries - ZIP Codes</th>\n",
       "      <th>Community Areas</th>\n",
       "      <th>Zip Codes</th>\n",
       "      <th>Census Tracts</th>\n",
       "      <th>Wards</th>\n",
       "    </tr>\n",
       "  </thead>\n",
       "  <tbody>\n",
       "    <tr>\n",
       "      <th>0</th>\n",
       "      <td>SR18-00019409</td>\n",
       "      <td>Tree Trim Request</td>\n",
       "      <td>SEF</td>\n",
       "      <td>Streets and Sanitation</td>\n",
       "      <td>Open</td>\n",
       "      <td>12/03/2018 08:49:35 AM</td>\n",
       "      <td>03/07/2019 10:31:25 PM</td>\n",
       "      <td>NaN</td>\n",
       "      <td>3824 W 106TH ST</td>\n",
       "      <td>CHICAGO</td>\n",
       "      <td>...</td>\n",
       "      <td>1.152605e+06</td>\n",
       "      <td>1.834123e+06</td>\n",
       "      <td>41.700690</td>\n",
       "      <td>-87.716844</td>\n",
       "      <td>(41.700689971688, -87.71684413037)</td>\n",
       "      <td>33.0</td>\n",
       "      <td>73.0</td>\n",
       "      <td>4447.0</td>\n",
       "      <td>316.0</td>\n",
       "      <td>42.0</td>\n",
       "    </tr>\n",
       "    <tr>\n",
       "      <th>1</th>\n",
       "      <td>SR18-00019450</td>\n",
       "      <td>Tree Removal Request</td>\n",
       "      <td>SEE</td>\n",
       "      <td>Streets and Sanitation</td>\n",
       "      <td>Open</td>\n",
       "      <td>12/03/2018 09:12:29 AM</td>\n",
       "      <td>03/07/2019 10:33:14 PM</td>\n",
       "      <td>NaN</td>\n",
       "      <td>2916 N NEW ENGLAND AVE</td>\n",
       "      <td>CHICAGO</td>\n",
       "      <td>...</td>\n",
       "      <td>1.129842e+06</td>\n",
       "      <td>1.918706e+06</td>\n",
       "      <td>41.933218</td>\n",
       "      <td>-87.798265</td>\n",
       "      <td>(41.933217894637, -87.79826490538)</td>\n",
       "      <td>52.0</td>\n",
       "      <td>18.0</td>\n",
       "      <td>22254.0</td>\n",
       "      <td>397.0</td>\n",
       "      <td>44.0</td>\n",
       "    </tr>\n",
       "    <tr>\n",
       "      <th>2</th>\n",
       "      <td>SR18-00019454</td>\n",
       "      <td>Tree Removal Request</td>\n",
       "      <td>SEE</td>\n",
       "      <td>Streets and Sanitation</td>\n",
       "      <td>Open</td>\n",
       "      <td>12/03/2018 09:14:30 AM</td>\n",
       "      <td>03/07/2019 10:33:14 PM</td>\n",
       "      <td>NaN</td>\n",
       "      <td>471 W 31ST ST</td>\n",
       "      <td>CHICAGO</td>\n",
       "      <td>...</td>\n",
       "      <td>1.173497e+06</td>\n",
       "      <td>1.884364e+06</td>\n",
       "      <td>41.838122</td>\n",
       "      <td>-87.638859</td>\n",
       "      <td>(41.838121890605, -87.638858915303)</td>\n",
       "      <td>40.0</td>\n",
       "      <td>58.0</td>\n",
       "      <td>21194.0</td>\n",
       "      <td>223.0</td>\n",
       "      <td>48.0</td>\n",
       "    </tr>\n",
       "    <tr>\n",
       "      <th>3</th>\n",
       "      <td>SR18-00019481</td>\n",
       "      <td>Tree Removal Request</td>\n",
       "      <td>SEE</td>\n",
       "      <td>Streets and Sanitation</td>\n",
       "      <td>Open</td>\n",
       "      <td>12/03/2018 09:36:11 AM</td>\n",
       "      <td>03/07/2019 10:48:39 PM</td>\n",
       "      <td>NaN</td>\n",
       "      <td>3638 W 59TH PL</td>\n",
       "      <td>CHICAGO</td>\n",
       "      <td>...</td>\n",
       "      <td>1.152960e+06</td>\n",
       "      <td>1.864979e+06</td>\n",
       "      <td>41.785359</td>\n",
       "      <td>-87.714732</td>\n",
       "      <td>(41.785358643864, -87.714731628488)</td>\n",
       "      <td>58.0</td>\n",
       "      <td>63.0</td>\n",
       "      <td>21867.0</td>\n",
       "      <td>339.0</td>\n",
       "      <td>6.0</td>\n",
       "    </tr>\n",
       "    <tr>\n",
       "      <th>4</th>\n",
       "      <td>SR19-00961625</td>\n",
       "      <td>Aircraft Noise Complaint</td>\n",
       "      <td>AVN</td>\n",
       "      <td>Aviation</td>\n",
       "      <td>Completed</td>\n",
       "      <td>02/05/2019 10:05:07 AM</td>\n",
       "      <td>02/10/2019 02:00:25 PM</td>\n",
       "      <td>02/05/2019 10:05:08 AM</td>\n",
       "      <td>33W801 N MARE BARN LN</td>\n",
       "      <td>NaN</td>\n",
       "      <td>...</td>\n",
       "      <td>NaN</td>\n",
       "      <td>NaN</td>\n",
       "      <td>NaN</td>\n",
       "      <td>NaN</td>\n",
       "      <td>NaN</td>\n",
       "      <td>NaN</td>\n",
       "      <td>NaN</td>\n",
       "      <td>NaN</td>\n",
       "      <td>NaN</td>\n",
       "      <td>NaN</td>\n",
       "    </tr>\n",
       "  </tbody>\n",
       "</table>\n",
       "<p>5 rows × 42 columns</p>\n",
       "</div>"
      ],
      "text/plain": [
       "       SR_NUMBER                   SR_TYPE SR_SHORT_CODE  \\\n",
       "0  SR18-00019409         Tree Trim Request           SEF   \n",
       "1  SR18-00019450      Tree Removal Request           SEE   \n",
       "2  SR18-00019454      Tree Removal Request           SEE   \n",
       "3  SR18-00019481      Tree Removal Request           SEE   \n",
       "4  SR19-00961625  Aircraft Noise Complaint           AVN   \n",
       "\n",
       "         OWNER_DEPARTMENT     STATUS            CREATED_DATE  \\\n",
       "0  Streets and Sanitation       Open  12/03/2018 08:49:35 AM   \n",
       "1  Streets and Sanitation       Open  12/03/2018 09:12:29 AM   \n",
       "2  Streets and Sanitation       Open  12/03/2018 09:14:30 AM   \n",
       "3  Streets and Sanitation       Open  12/03/2018 09:36:11 AM   \n",
       "4                Aviation  Completed  02/05/2019 10:05:07 AM   \n",
       "\n",
       "       LAST_MODIFIED_DATE             CLOSED_DATE          STREET_ADDRESS  \\\n",
       "0  03/07/2019 10:31:25 PM                     NaN         3824 W 106TH ST   \n",
       "1  03/07/2019 10:33:14 PM                     NaN  2916 N NEW ENGLAND AVE   \n",
       "2  03/07/2019 10:33:14 PM                     NaN           471 W 31ST ST   \n",
       "3  03/07/2019 10:48:39 PM                     NaN          3638 W 59TH PL   \n",
       "4  02/10/2019 02:00:25 PM  02/05/2019 10:05:08 AM   33W801 N MARE BARN LN   \n",
       "\n",
       "      CITY  ...   X_COORDINATE  Y_COORDINATE   LATITUDE  LONGITUDE  \\\n",
       "0  CHICAGO  ...   1.152605e+06  1.834123e+06  41.700690 -87.716844   \n",
       "1  CHICAGO  ...   1.129842e+06  1.918706e+06  41.933218 -87.798265   \n",
       "2  CHICAGO  ...   1.173497e+06  1.884364e+06  41.838122 -87.638859   \n",
       "3  CHICAGO  ...   1.152960e+06  1.864979e+06  41.785359 -87.714732   \n",
       "4      NaN  ...            NaN           NaN        NaN        NaN   \n",
       "\n",
       "                              LOCATION Boundaries - ZIP Codes  \\\n",
       "0   (41.700689971688, -87.71684413037)                   33.0   \n",
       "1   (41.933217894637, -87.79826490538)                   52.0   \n",
       "2  (41.838121890605, -87.638858915303)                   40.0   \n",
       "3  (41.785358643864, -87.714731628488)                   58.0   \n",
       "4                                  NaN                    NaN   \n",
       "\n",
       "   Community Areas  Zip Codes Census Tracts Wards  \n",
       "0             73.0     4447.0         316.0  42.0  \n",
       "1             18.0    22254.0         397.0  44.0  \n",
       "2             58.0    21194.0         223.0  48.0  \n",
       "3             63.0    21867.0         339.0   6.0  \n",
       "4              NaN        NaN           NaN   NaN  \n",
       "\n",
       "[5 rows x 42 columns]"
      ]
     },
     "execution_count": 2,
     "metadata": {},
     "output_type": "execute_result"
    }
   ],
   "source": [
    "df.head()\n"
   ]
  },
  {
   "cell_type": "code",
   "execution_count": 3,
   "metadata": {},
   "outputs": [
    {
     "data": {
      "text/html": [
       "<div>\n",
       "<style scoped>\n",
       "    .dataframe tbody tr th:only-of-type {\n",
       "        vertical-align: middle;\n",
       "    }\n",
       "\n",
       "    .dataframe tbody tr th {\n",
       "        vertical-align: top;\n",
       "    }\n",
       "\n",
       "    .dataframe thead th {\n",
       "        text-align: right;\n",
       "    }\n",
       "</style>\n",
       "<table border=\"1\" class=\"dataframe\">\n",
       "  <thead>\n",
       "    <tr style=\"text-align: right;\">\n",
       "      <th></th>\n",
       "      <th>SR_NUMBER</th>\n",
       "      <th>CREATED_DATE</th>\n",
       "      <th>CLOSED_DATE</th>\n",
       "      <th>STATUS</th>\n",
       "      <th>SR_TYPE</th>\n",
       "      <th>Zip Codes</th>\n",
       "      <th>Wards</th>\n",
       "      <th>Days_Completion</th>\n",
       "    </tr>\n",
       "  </thead>\n",
       "  <tbody>\n",
       "    <tr>\n",
       "      <th>0</th>\n",
       "      <td>SR19-00998650</td>\n",
       "      <td>2019-02-12 05:13:45</td>\n",
       "      <td>2019-02-28 07:00:59</td>\n",
       "      <td>Completed</td>\n",
       "      <td>Abandoned Vehicle Complaint</td>\n",
       "      <td>21184.0</td>\n",
       "      <td>46.0</td>\n",
       "      <td>16</td>\n",
       "    </tr>\n",
       "    <tr>\n",
       "      <th>1</th>\n",
       "      <td>SR19-01004254</td>\n",
       "      <td>2019-02-13 07:39:05</td>\n",
       "      <td>2019-02-28 07:07:15</td>\n",
       "      <td>Completed</td>\n",
       "      <td>Abandoned Vehicle Complaint</td>\n",
       "      <td>21867.0</td>\n",
       "      <td>8.0</td>\n",
       "      <td>14</td>\n",
       "    </tr>\n",
       "    <tr>\n",
       "      <th>2</th>\n",
       "      <td>SR19-01004261</td>\n",
       "      <td>2019-02-13 07:40:24</td>\n",
       "      <td>2019-02-28 07:09:09</td>\n",
       "      <td>Completed</td>\n",
       "      <td>Abandoned Vehicle Complaint</td>\n",
       "      <td>21867.0</td>\n",
       "      <td>8.0</td>\n",
       "      <td>14</td>\n",
       "    </tr>\n",
       "    <tr>\n",
       "      <th>3</th>\n",
       "      <td>SR19-01018598</td>\n",
       "      <td>2019-02-15 12:03:21</td>\n",
       "      <td>2019-02-28 06:56:38</td>\n",
       "      <td>Completed</td>\n",
       "      <td>Abandoned Vehicle Complaint</td>\n",
       "      <td>21861.0</td>\n",
       "      <td>22.0</td>\n",
       "      <td>12</td>\n",
       "    </tr>\n",
       "    <tr>\n",
       "      <th>4</th>\n",
       "      <td>SR19-01055155</td>\n",
       "      <td>2019-02-22 13:09:47</td>\n",
       "      <td>2019-02-28 07:07:23</td>\n",
       "      <td>Completed</td>\n",
       "      <td>Abandoned Vehicle Complaint</td>\n",
       "      <td>22212.0</td>\n",
       "      <td>22.0</td>\n",
       "      <td>5</td>\n",
       "    </tr>\n",
       "  </tbody>\n",
       "</table>\n",
       "</div>"
      ],
      "text/plain": [
       "       SR_NUMBER        CREATED_DATE         CLOSED_DATE     STATUS  \\\n",
       "0  SR19-00998650 2019-02-12 05:13:45 2019-02-28 07:00:59  Completed   \n",
       "1  SR19-01004254 2019-02-13 07:39:05 2019-02-28 07:07:15  Completed   \n",
       "2  SR19-01004261 2019-02-13 07:40:24 2019-02-28 07:09:09  Completed   \n",
       "3  SR19-01018598 2019-02-15 12:03:21 2019-02-28 06:56:38  Completed   \n",
       "4  SR19-01055155 2019-02-22 13:09:47 2019-02-28 07:07:23  Completed   \n",
       "\n",
       "                       SR_TYPE  Zip Codes  Wards  Days_Completion  \n",
       "0  Abandoned Vehicle Complaint    21184.0   46.0               16  \n",
       "1  Abandoned Vehicle Complaint    21867.0    8.0               14  \n",
       "2  Abandoned Vehicle Complaint    21867.0    8.0               14  \n",
       "3  Abandoned Vehicle Complaint    21861.0   22.0               12  \n",
       "4  Abandoned Vehicle Complaint    22212.0   22.0                5  "
      ]
     },
     "execution_count": 3,
     "metadata": {},
     "output_type": "execute_result"
    }
   ],
   "source": [
    "# cleaning up data\n",
    "\n",
    "#retrive Remove Abandoned Vehicle Requests from Other Requests\n",
    "car_df=df.loc[df[\"SR_TYPE\"]==\"Abandoned Vehicle Complaint\", :]\n",
    "\n",
    "\n",
    "car_done_df = car_df.loc[car_df['STATUS']=='Completed']\n",
    "\n",
    "\n",
    "# Create a dataframe from select columns\n",
    "car_summary_df=car_done_df.loc[:,[\"SR_NUMBER\", \"CREATED_DATE\", \"CLOSED_DATE\", \"STATUS\", \"SR_TYPE\", \"Zip Codes\", \"Wards\"]]\n",
    "\n",
    "# Remove NA rows in Ward\n",
    "#car_summary_df=car_summary_df.dropna(subset = [\"Wards\"], inplace=True)\n",
    "\n",
    "\n",
    "# Remove \"0\" ward rows\n",
    "car_summary_df=car_summary_df.loc[car_summary_df['Wards']!=0,[\"SR_NUMBER\", \"CREATED_DATE\", \"CLOSED_DATE\", \"STATUS\", \"SR_TYPE\", \"Zip Codes\", \"Wards\"]]\n",
    "car_summary_df=car_summary_df.reset_index(drop=True)\n",
    "\n",
    "\n",
    "\n",
    "#convert string to datetime type\n",
    "car_summary_df['CREATED_DATE']=car_summary_df['CREATED_DATE'].astype('datetime64[ns]')\n",
    "car_summary_df['CLOSED_DATE']=car_summary_df['CLOSED_DATE'].astype('datetime64[ns]')\n",
    "\n",
    "days=(car_summary_df['CLOSED_DATE'] - car_summary_df['CREATED_DATE']).dt.days\n",
    "\n",
    "car_summary_df['Days_Completion']=days\n",
    "car_summary_df.head()\n"
   ]
  },
  {
   "cell_type": "code",
   "execution_count": 4,
   "metadata": {},
   "outputs": [
    {
     "data": {
      "text/plain": [
       "count    18242.000000\n",
       "mean        17.498575\n",
       "std         17.174938\n",
       "min          0.000000\n",
       "25%          2.000000\n",
       "50%         12.500000\n",
       "75%         31.000000\n",
       "max        121.000000\n",
       "Name: Days_Completion, dtype: float64"
      ]
     },
     "execution_count": 4,
     "metadata": {},
     "output_type": "execute_result"
    }
   ],
   "source": [
    "car_summary_df[\"Days_Completion\"].describe()\n",
    "\n"
   ]
  },
  {
   "cell_type": "code",
   "execution_count": 5,
   "metadata": {},
   "outputs": [
    {
     "name": "stdout",
     "output_type": "stream",
     "text": [
      "Between 2018-07-01 07:03:15 and 2019-03-22 07:51:14:\n",
      "Total number of completed removed abandoned vehicle requests: 18242.\n",
      "Number of requests completed on the same day: 2907\n",
      "Percent of removed abandoned vehicle requests completed on the same day: 15.94%\n"
     ]
    }
   ],
   "source": [
    "# doing some stats for abandoned vehicle complaint requests\n",
    "same_day=car_summary_df.loc[car_summary_df[\"Days_Completion\"]==0]\n",
    "same_day_total=same_day[\"Days_Completion\"].count()\n",
    "total_completed_requests = car_summary_df[\"Days_Completion\"].count()\n",
    "#print(total_completed_requests)\n",
    "same_day_percent=round(same_day_total/total_completed_requests*100,2)\n",
    "#print(same_day_percent)\n",
    "\n",
    "start_date = car_summary_df[\"CREATED_DATE\"].min()\n",
    "end_date = car_summary_df[\"CREATED_DATE\"].max()\n",
    "\n",
    "print(f'Between {start_date} and {end_date}:')\n",
    "print(f'Total number of completed removed abandoned vehicle requests: {total_completed_requests}.')\n",
    "print(f'Number of requests completed on the same day: {same_day_total}')\n",
    "print(f'Percent of removed abandoned vehicle requests completed on the same day: {same_day_percent}%')\n"
   ]
  },
  {
   "cell_type": "code",
   "execution_count": 6,
   "metadata": {},
   "outputs": [
    {
     "data": {
      "text/html": [
       "<div>\n",
       "<style scoped>\n",
       "    .dataframe tbody tr th:only-of-type {\n",
       "        vertical-align: middle;\n",
       "    }\n",
       "\n",
       "    .dataframe tbody tr th {\n",
       "        vertical-align: top;\n",
       "    }\n",
       "\n",
       "    .dataframe thead th {\n",
       "        text-align: right;\n",
       "    }\n",
       "</style>\n",
       "<table border=\"1\" class=\"dataframe\">\n",
       "  <thead>\n",
       "    <tr style=\"text-align: right;\">\n",
       "      <th></th>\n",
       "      <th>SR_NUMBER</th>\n",
       "      <th>CREATED_DATE</th>\n",
       "      <th>CLOSED_DATE</th>\n",
       "      <th>STATUS</th>\n",
       "      <th>SR_TYPE</th>\n",
       "      <th>Zip Codes</th>\n",
       "      <th>Wards</th>\n",
       "      <th>Days_Completion</th>\n",
       "    </tr>\n",
       "  </thead>\n",
       "  <tbody>\n",
       "    <tr>\n",
       "      <th>0</th>\n",
       "      <td>SR19-00998650</td>\n",
       "      <td>2019-02-12 05:13:45</td>\n",
       "      <td>2019-02-28 07:00:59</td>\n",
       "      <td>Completed</td>\n",
       "      <td>Abandoned Vehicle Complaint</td>\n",
       "      <td>21184.0</td>\n",
       "      <td>46.0</td>\n",
       "      <td>16</td>\n",
       "    </tr>\n",
       "    <tr>\n",
       "      <th>1</th>\n",
       "      <td>SR19-01004254</td>\n",
       "      <td>2019-02-13 07:39:05</td>\n",
       "      <td>2019-02-28 07:07:15</td>\n",
       "      <td>Completed</td>\n",
       "      <td>Abandoned Vehicle Complaint</td>\n",
       "      <td>21867.0</td>\n",
       "      <td>8.0</td>\n",
       "      <td>14</td>\n",
       "    </tr>\n",
       "    <tr>\n",
       "      <th>2</th>\n",
       "      <td>SR19-01004261</td>\n",
       "      <td>2019-02-13 07:40:24</td>\n",
       "      <td>2019-02-28 07:09:09</td>\n",
       "      <td>Completed</td>\n",
       "      <td>Abandoned Vehicle Complaint</td>\n",
       "      <td>21867.0</td>\n",
       "      <td>8.0</td>\n",
       "      <td>14</td>\n",
       "    </tr>\n",
       "    <tr>\n",
       "      <th>3</th>\n",
       "      <td>SR19-01018598</td>\n",
       "      <td>2019-02-15 12:03:21</td>\n",
       "      <td>2019-02-28 06:56:38</td>\n",
       "      <td>Completed</td>\n",
       "      <td>Abandoned Vehicle Complaint</td>\n",
       "      <td>21861.0</td>\n",
       "      <td>22.0</td>\n",
       "      <td>12</td>\n",
       "    </tr>\n",
       "    <tr>\n",
       "      <th>4</th>\n",
       "      <td>SR19-01055155</td>\n",
       "      <td>2019-02-22 13:09:47</td>\n",
       "      <td>2019-02-28 07:07:23</td>\n",
       "      <td>Completed</td>\n",
       "      <td>Abandoned Vehicle Complaint</td>\n",
       "      <td>22212.0</td>\n",
       "      <td>22.0</td>\n",
       "      <td>5</td>\n",
       "    </tr>\n",
       "  </tbody>\n",
       "</table>\n",
       "</div>"
      ],
      "text/plain": [
       "       SR_NUMBER        CREATED_DATE         CLOSED_DATE     STATUS  \\\n",
       "0  SR19-00998650 2019-02-12 05:13:45 2019-02-28 07:00:59  Completed   \n",
       "1  SR19-01004254 2019-02-13 07:39:05 2019-02-28 07:07:15  Completed   \n",
       "2  SR19-01004261 2019-02-13 07:40:24 2019-02-28 07:09:09  Completed   \n",
       "3  SR19-01018598 2019-02-15 12:03:21 2019-02-28 06:56:38  Completed   \n",
       "4  SR19-01055155 2019-02-22 13:09:47 2019-02-28 07:07:23  Completed   \n",
       "\n",
       "                       SR_TYPE  Zip Codes  Wards  Days_Completion  \n",
       "0  Abandoned Vehicle Complaint    21184.0   46.0               16  \n",
       "1  Abandoned Vehicle Complaint    21867.0    8.0               14  \n",
       "2  Abandoned Vehicle Complaint    21867.0    8.0               14  \n",
       "3  Abandoned Vehicle Complaint    21861.0   22.0               12  \n",
       "4  Abandoned Vehicle Complaint    22212.0   22.0                5  "
      ]
     },
     "execution_count": 6,
     "metadata": {},
     "output_type": "execute_result"
    }
   ],
   "source": [
    "car_summary_df.head()"
   ]
  },
  {
   "cell_type": "code",
   "execution_count": null,
   "metadata": {},
   "outputs": [],
   "source": []
  },
  {
   "cell_type": "code",
   "execution_count": 16,
   "metadata": {},
   "outputs": [
    {
     "data": {
      "text/plain": [
       "Text(0, 0.5, 'Total Completed Number of Vehicle Remove Requests')"
      ]
     },
     "execution_count": 16,
     "metadata": {},
     "output_type": "execute_result"
    },
    {
     "data": {
      "image/png": "[encoded data removed]",
      "text/plain": [
       "<Figure size 1440x720 with 1 Axes>"
      ]
     },
     "metadata": {
      "needs_background": "light"
     },
     "output_type": "display_data"
    }
   ],
   "source": [
    "# Plot total completed number of requests by ward\n",
    "# Group by ward\n",
    "completed_group = car_summary_df.groupby(\"Wards\")\n",
    "\n",
    "# Count the number of requests by ward\n",
    "ward_counts = completed_group[\"Wards\"].count()\n",
    "\n",
    "# Plot in a bar chart\n",
    "ward_chart = ward_counts.plot(kind='bar', figsize = (20,10), fontsize=12)\n",
    "\n",
    "# Set the xlabel and ylabel using class methods\n",
    "ward_chart.set_title(\"All Completed Abandoned Vehicle Remove Requests by Ward, 2018-07 - 2019-03\", fontsize=20)\n",
    "ward_chart.set_xlabel(\"Chicago City Wards\", fontsize=12)\n",
    "ward_chart.set_ylabel(\"Total Completed Number of Vehicle Remove Requests\", fontsize=12)\n",
    "\n",
    "\n",
    "\n"
   ]
  },
  {
   "cell_type": "code",
   "execution_count": 19,
   "metadata": {},
   "outputs": [
    {
     "data": {
      "text/plain": [
       "Text(0, 0.5, 'Total uncompleted Number of Vehicle Remove Requests')"
      ]
     },
     "execution_count": 19,
     "metadata": {},
     "output_type": "execute_result"
    },
    {
     "data": {
      "image/png": "[encoded data removed]",
      "text/plain": [
       "<Figure size 1440x720 with 1 Axes>"
      ]
     },
     "metadata": {
      "needs_background": "light"
     },
     "output_type": "display_data"
    }
   ],
   "source": [
    "# Plot total uncompletd number of requests by ward\n",
    "# Group by ward\n",
    "uncompleted_group = car_df.loc[car_df['STATUS']=='Open']\n",
    "uncompleted_group=uncompleted_group.groupby(\"Wards\")\n",
    "\n",
    "# Count the number of requests by ward\n",
    "ward_counts_un = uncompleted_group[\"Wards\"].count()\n",
    "\n",
    "# Plot in a bar chart\n",
    "ward_chart_un = ward_counts_un.plot(kind='bar', figsize = (20,10), fontsize=12)\n",
    "\n",
    "# Set the xlabel and ylabel using class methods\n",
    "ward_chart_un.set_title(\"All Uncompleted Abandoned Vehicle Remove Requests by Ward, 2018-07 - 2019-03\", fontsize=20)\n",
    "ward_chart_un.set_xlabel(\"Chicago City Wards\", fontsize=12)\n",
    "ward_chart_un.set_ylabel(\"Total uncompleted Number of Vehicle Remove Requests\", fontsize=12)\n"
   ]
  },
  {
   "cell_type": "code",
   "execution_count": 17,
   "metadata": {},
   "outputs": [
    {
     "data": {
      "text/plain": [
       "Text(0, 0.5, 'Completed Number of Remove Vehicle Requests')"
      ]
     },
     "execution_count": 17,
     "metadata": {},
     "output_type": "execute_result"
    },
    {
     "data": {
      "image/png": "[encoded data removed]",
      "text/plain": [
       "<Figure size 1440x720 with 1 Axes>"
      ]
     },
     "metadata": {
      "needs_background": "light"
     },
     "output_type": "display_data"
    }
   ],
   "source": [
    "# Plot a bar chart for number of requests closed in same days by ward\n",
    "# Group by ward\n",
    "same_day_group = same_day.groupby(\"Wards\")\n",
    "\n",
    "# Count the number of requests by ward\n",
    "ward_same_day_counts = same_day_group[\"Wards\"].count()\n",
    "\n",
    "# Plot in a bar chart\n",
    "ward_same_chart = ward_same_day_counts.plot(kind='bar', figsize = (20,10), fontsize=12)\n",
    "\n",
    "# Set the xlabel and ylabel using class methods\n",
    "ward_same_chart.set_title(\"Completed Remoe Vehicle Requests by Wards (Same Day Service), 2018-07 - 2019-03\", fontsize=20)\n",
    "ward_same_chart.set_xlabel(\"Chicago City Ward\", fontsize=12)\n",
    "ward_same_chart.set_ylabel(\"Completed Number of Remove Vehicle Requests\", fontsize=12)\n",
    "\n",
    "\n"
   ]
  },
  {
   "cell_type": "code",
   "execution_count": null,
   "metadata": {},
   "outputs": [],
   "source": [
    "\n",
    "\n",
    "\n"
   ]
  },
  {
   "cell_type": "code",
   "execution_count": 14,
   "metadata": {},
   "outputs": [
    {
     "ename": "AttributeError",
     "evalue": "'float' object has no attribute 'plot'",
     "output_type": "error",
     "traceback": [
      "\u001b[0;31m---------------------------------------------------------------------------\u001b[0m",
      "\u001b[0;31mAttributeError\u001b[0m                            Traceback (most recent call last)",
      "\u001b[0;32m<ipython-input-14-7b81208785dc>\u001b[0m in \u001b[0;36m<module>\u001b[0;34m\u001b[0m\n\u001b[1;32m      7\u001b[0m \u001b[0;34m\u001b[0m\u001b[0m\n\u001b[1;32m      8\u001b[0m \u001b[0;31m# Plot in a bar chart\u001b[0m\u001b[0;34m\u001b[0m\u001b[0;34m\u001b[0m\u001b[0;34m\u001b[0m\u001b[0m\n\u001b[0;32m----> 9\u001b[0;31m \u001b[0mavg_days_chart\u001b[0m \u001b[0;34m=\u001b[0m \u001b[0mavg_days\u001b[0m\u001b[0;34m.\u001b[0m\u001b[0mplot\u001b[0m\u001b[0;34m(\u001b[0m\u001b[0mkind\u001b[0m\u001b[0;34m=\u001b[0m\u001b[0;34m'bar'\u001b[0m\u001b[0;34m,\u001b[0m \u001b[0mfigsize\u001b[0m \u001b[0;34m=\u001b[0m \u001b[0;34m(\u001b[0m\u001b[0;36m20\u001b[0m\u001b[0;34m,\u001b[0m\u001b[0;36m10\u001b[0m\u001b[0;34m)\u001b[0m\u001b[0;34m,\u001b[0m \u001b[0mfontsize\u001b[0m\u001b[0;34m=\u001b[0m\u001b[0;36m12\u001b[0m\u001b[0;34m)\u001b[0m\u001b[0;34m\u001b[0m\u001b[0;34m\u001b[0m\u001b[0m\n\u001b[0m\u001b[1;32m     10\u001b[0m \u001b[0;34m\u001b[0m\u001b[0m\n\u001b[1;32m     11\u001b[0m \u001b[0;31m# Set the xlabel and ylabel using class methods\u001b[0m\u001b[0;34m\u001b[0m\u001b[0;34m\u001b[0m\u001b[0;34m\u001b[0m\u001b[0m\n",
      "\u001b[0;31mAttributeError\u001b[0m: 'float' object has no attribute 'plot'"
     ]
    }
   ],
   "source": [
    "# Plot the average time to close a request by ward using completion group\n",
    "\n",
    "# Calculate the average time it took to close the request by ward\n",
    "avg_days = round(car_summary_df[\"Days_Completion\"].mean(),0)\n",
    "#print(avg_days)\n",
    "\n",
    "\n",
    "# Plot in a bar chart\n",
    "avg_days_chart = avg_days.plot(kind='bar', figsize = (20,10), fontsize=12)\n",
    "\n",
    "# Set the xlabel and ylabel using class methods\n",
    "avg_days_chart.set_title(\"Average Number of Days to Remove Vehicle by Ward\", fontsize=20)\n",
    "avg_days_chart.set_xlabel(\"Chicago City Ward\", fontsize=12)\n",
    "avg_days_chart.set_ylabel(\"Number of Days\", fontsize=12)\n",
    "\n"
   ]
  },
  {
   "cell_type": "code",
   "execution_count": null,
   "metadata": {},
   "outputs": [],
   "source": []
  }
 ],
 "metadata": {
  "kernelspec": {
   "display_name": "Python 3",
   "language": "python",
   "name": "python3"
  },
  "language_info": {
   "codemirror_mode": {
    "name": "ipython",
    "version": 3
   },
   "file_extension": ".py",
   "mimetype": "text/x-python",
   "name": "python",
   "nbconvert_exporter": "python",
   "pygments_lexer": "ipython3",
   "version": "3.7.1"
  }
 },
 "nbformat": 4,
 "nbformat_minor": 2
}
